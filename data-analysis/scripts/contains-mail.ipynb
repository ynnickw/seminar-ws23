{
 "cells": [
  {
   "cell_type": "code",
   "execution_count": 4,
   "metadata": {},
   "outputs": [],
   "source": [
    "import json\n",
    "import base64\n",
    "import hashlib\n",
    "from urllib.parse import urlparse\n",
    "from base64 import b64encode\n",
    "from haralyzer import HarParser"
   ]
  },
  {
   "cell_type": "code",
   "execution_count": 5,
   "metadata": {},
   "outputs": [
    {
     "name": "stdout",
     "output_type": "stream",
     "text": [
      "Number of entries: 2132\n"
     ]
    }
   ],
   "source": [
    "host = \"faz.net\"\n",
    "type = \"news\"\n",
    "har_file_path = \"../archives/\" + type + \"/www.\" + host + \".har\"\n",
    "\n",
    "# Read the content of the HAR file and convert it to a dictionary\n",
    "with open(har_file_path, \"r\", encoding=\"utf-8\") as har_file:\n",
    "    har_data = json.load(har_file)\n",
    "\n",
    "har_parser = HarParser(har_data)\n",
    "entries = har_parser.har_data['entries']\n",
    "\n",
    "print(\"Number of entries: {}\".format(len(entries)))"
   ]
  },
  {
   "cell_type": "code",
   "execution_count": 6,
   "metadata": {},
   "outputs": [
    {
     "name": "stdout",
     "output_type": "stream",
     "text": [
      "SHA256 hash 69638e8bc82beb01fbd95ae63968c186965aa5e18a4fd0b343639857d05be7c9 found in REQUEST www.facebook.com: https://www.facebook.com/tr/?id=494203564082803&ev=SubscribedButtonClick&dl=https%3A%2F%2Fwww.faz.net%2Fmein-faz-net%2F%3FredirectUrl%3D%252Faktuell%252F&rl=https%3A%2F%2Fwww.faz.net%2Fmein-faz-net%2F%3Fot%3Dde.faz.ot.body-vm%26vm%3Dloginboxform%26redirectUrl%3D%252Faktuell%252F&if=false&ts=1702933815972&cd[buttonFeatures]=%7B%22classList%22%3A%22btn-Base_TextWrapper%22%2C%22destination%22%3A%22https%3A%2F%2Fwww.faz.net%2Fmembership%2FloginNoScript%22%2C%22id%22%3A%22%22%2C%22imageUrl%22%3A%22%22%2C%22innerText%22%3A%22%20ANMELDEN%22%2C%22numChildButtons%22%3A2%2C%22tag%22%3A%22span%22%2C%22type%22%3Anull%7D&cd[buttonText]=%20ANMELDEN&cd[formFeatures]=%5B%7B%22id%22%3A%22redirectUrl%22%2C%22name%22%3A%22redirectUrl%22%2C%22tag%22%3A%22input%22%2C%22inputType%22%3A%22hidden%22%7D%2C%7B%22id%22%3A%22%22%2C%22name%22%3A%22loginName%22%2C%22tag%22%3A%22input%22%2C%22placeholder%22%3A%22Benutzername%20%2F%20E-Mail%22%2C%22inputType%22%3A%22text%22%7D%2C%7B%22id%22%3A%22%22%2C%22name%22%3A%22password%22%2C%22tag%22%3A%22input%22%2C%22placeholder%22%3A%22Passwort%22%2C%22inputType%22%3A%22password%22%7D%2C%7B%22id%22%3A%22rememberMe%22%2C%22name%22%3A%22rememberMe%22%2C%22tag%22%3A%22input%22%2C%22inputType%22%3A%22checkbox%22%7D%5D&cd[pageFeatures]=%7B%22title%22%3A%22Mein%20FAZ.NET%20-%20FAZ%22%7D&cd[parameters]=%5B%5D&sw=1218&sh=743&udff[em]=69638e8bc82beb01fbd95ae63968c186965aa5e18a4fd0b343639857d05be7c9&v=2.9.138&r=stable&ec=1&o=6174&fbp=fb.1.1702933787014.1949870817&ler=other&it=1702933810327&coo=false&es=automatic&tm=3&rqm=GET\n",
      "SHA256 hash 69638e8bc82beb01fbd95ae63968c186965aa5e18a4fd0b343639857d05be7c9 found in REQUEST www.facebook.com: [{'name': ':authority', 'value': 'www.facebook.com'}, {'name': ':method', 'value': 'GET'}, {'name': ':path', 'value': '/tr/?id=494203564082803&ev=SubscribedButtonClick&dl=https%3A%2F%2Fwww.faz.net%2Fmein-faz-net%2F%3FredirectUrl%3D%252Faktuell%252F&rl=https%3A%2F%2Fwww.faz.net%2Fmein-faz-net%2F%3Fot%3Dde.faz.ot.body-vm%26vm%3Dloginboxform%26redirectUrl%3D%252Faktuell%252F&if=false&ts=1702933815972&cd[buttonFeatures]=%7B%22classList%22%3A%22btn-Base_TextWrapper%22%2C%22destination%22%3A%22https%3A%2F%2Fwww.faz.net%2Fmembership%2FloginNoScript%22%2C%22id%22%3A%22%22%2C%22imageUrl%22%3A%22%22%2C%22innerText%22%3A%22%20ANMELDEN%22%2C%22numChildButtons%22%3A2%2C%22tag%22%3A%22span%22%2C%22type%22%3Anull%7D&cd[buttonText]=%20ANMELDEN&cd[formFeatures]=%5B%7B%22id%22%3A%22redirectUrl%22%2C%22name%22%3A%22redirectUrl%22%2C%22tag%22%3A%22input%22%2C%22inputType%22%3A%22hidden%22%7D%2C%7B%22id%22%3A%22%22%2C%22name%22%3A%22loginName%22%2C%22tag%22%3A%22input%22%2C%22placeholder%22%3A%22Benutzername%20%2F%20E-Mail%22%2C%22inputType%22%3A%22text%22%7D%2C%7B%22id%22%3A%22%22%2C%22name%22%3A%22password%22%2C%22tag%22%3A%22input%22%2C%22placeholder%22%3A%22Passwort%22%2C%22inputType%22%3A%22password%22%7D%2C%7B%22id%22%3A%22rememberMe%22%2C%22name%22%3A%22rememberMe%22%2C%22tag%22%3A%22input%22%2C%22inputType%22%3A%22checkbox%22%7D%5D&cd[pageFeatures]=%7B%22title%22%3A%22Mein%20FAZ.NET%20-%20FAZ%22%7D&cd[parameters]=%5B%5D&sw=1218&sh=743&udff[em]=69638e8bc82beb01fbd95ae63968c186965aa5e18a4fd0b343639857d05be7c9&v=2.9.138&r=stable&ec=1&o=6174&fbp=fb.1.1702933787014.1949870817&ler=other&it=1702933810327&coo=false&es=automatic&tm=3&rqm=GET'}, {'name': ':scheme', 'value': 'https'}, {'name': 'accept', 'value': 'image/avif,image/webp,image/apng,image/svg+xml,image/*,*/*;q=0.8'}, {'name': 'accept-encoding', 'value': 'gzip, deflate, br'}, {'name': 'accept-language', 'value': 'de-DE,de;q=0.9,en-US;q=0.8,en;q=0.7'}, {'name': 'referer', 'value': 'https://www.faz.net/'}, {'name': 'sec-ch-ua', 'value': '\"Not_A Brand\";v=\"8\", \"Chromium\";v=\"120\", \"Google Chrome\";v=\"120\"'}, {'name': 'sec-ch-ua-mobile', 'value': '?0'}, {'name': 'sec-ch-ua-platform', 'value': '\"Windows\"'}, {'name': 'sec-fetch-dest', 'value': 'image'}, {'name': 'sec-fetch-mode', 'value': 'no-cors'}, {'name': 'sec-fetch-site', 'value': 'cross-site'}, {'name': 'user-agent', 'value': 'Mozilla/5.0 (Windows NT 10.0; Win64; x64) AppleWebKit/537.36 (KHTML, like Gecko) Chrome/120.0.0.0 Safari/537.36'}]\n",
      "Mail found in REQUEST www.faz.net: {'mimeType': 'application/json', 'text': '{\"loginName\":\"yannick.nastja@gmail.com\",\"password\":\"Seminar2023\",\"rememberMe\":true}'}\n",
      "Mail found in RESPONSE connector.faz.net: {\"login\":\"yannicknastja\",\"email\":\"yannick.nastja@gmail.com\",\"firstname\":\"\",\"lastname\":\"\",\"is_author\":\"0\"}\n"
     ]
    }
   ],
   "source": [
    "email_address = 'yannick.nastja@gmail.com'\n",
    "\n",
    "# Function to check if a string contains the MD5 hash of the email address\n",
    "def contains_md5(text, host, location):\n",
    "    hashed_email = hashlib.md5(email_address.encode()).hexdigest()\n",
    "    if hashed_email in text:\n",
    "        print(f\"MD5 hash {hashed_email} found in {location} {host}: {text}\")\n",
    "\n",
    "# Function to check if a string contains the base64-encoded email address\n",
    "def contains_base64(text, host, location):\n",
    "    encoded_email = base64.b64encode(email_address.encode()).decode()\n",
    "    if encoded_email in text:\n",
    "        print(f\"Base64-encoded email address found in {location} {host}: {text}\")\n",
    "\n",
    "# Function to check if a string contains the SHA256 hash of the email address\n",
    "def contains_sha256(text, host, location):\n",
    "    hashed_email = hashlib.sha256(email_address.encode()).hexdigest()\n",
    "    if hashed_email in text:\n",
    "        print(f\"SHA256 hash {hashed_email} found in {location} {host}: {text}\")\n",
    "\n",
    "def contains_mail(text, host, location):\n",
    "    if email_address in text:\n",
    "        print(f\"Mail found in {location} {host}: {text}\")\n",
    "\n",
    "# Iterate through entries in the HAR file and analyze request and response content\n",
    "for entry in entries:\n",
    "    request = entry.get('request', {})\n",
    "    response = entry.get('response', {})\n",
    "    host = urlparse(request.get('url', '')).hostname\n",
    "\n",
    "    # Analyze request URL, headers, or POST data\n",
    "    for text in [request.get('url', ''), str(request.get('headers', '')), str(request.get('postData', ''))]:\n",
    "        contains_md5(text, host, \"REQUEST\")\n",
    "        contains_base64(text, host, \"REQUEST\")\n",
    "        contains_sha256(text, host, \"REQUEST\")\n",
    "        contains_mail(text, host, \"REQUEST\")\n",
    "\n",
    "    # Analyze response content\n",
    "    for text in [str(response.get('content', {}).get('text', ''))]:\n",
    "        contains_md5(text, host, \"RESPONSE\")\n",
    "        contains_base64(text, host, \"RESPONSE\")\n",
    "        contains_sha256(text, host, \"RESPONSE\")\n",
    "        contains_mail(text, host, \"RESPONSE\")\n"
   ]
  }
 ],
 "metadata": {
  "kernelspec": {
   "display_name": "seminar-venv",
   "language": "python",
   "name": "python3"
  },
  "language_info": {
   "codemirror_mode": {
    "name": "ipython",
    "version": 3
   },
   "file_extension": ".py",
   "mimetype": "text/x-python",
   "name": "python",
   "nbconvert_exporter": "python",
   "pygments_lexer": "ipython3",
   "version": "3.12.0"
  }
 },
 "nbformat": 4,
 "nbformat_minor": 2
}
