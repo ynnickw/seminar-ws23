{
 "cells": [
  {
   "cell_type": "markdown",
   "metadata": {},
   "source": [
    "### Setup\n",
    "import statements and general analysis setup"
   ]
  },
  {
   "cell_type": "code",
   "execution_count": null,
   "metadata": {},
   "outputs": [],
   "source": [
    "import json\n",
    "from haralyzer import HarParser\n",
    "from urllib.parse import urlparse"
   ]
  },
  {
   "cell_type": "code",
   "execution_count": null,
   "metadata": {},
   "outputs": [],
   "source": [
    "host = \"merkur.de\"\n",
    "type = \"news/desktop\"\n",
    "har_file_path = \"../archives/\" + type + \"/www.\" + host + \".har\"\n",
    "\n",
    "# Read the content of the HAR file and convert it to a dictionary\n",
    "with open(har_file_path, \"r\", encoding=\"utf-8\") as har_file:\n",
    "    har_data = json.load(har_file)\n",
    "\n",
    "har_parser = HarParser(har_data)\n",
    "entries = har_parser.har_data['entries']\n",
    "\n",
    "print(\"Number of entries: {}\".format(len(entries)))"
   ]
  },
  {
   "cell_type": "markdown",
   "metadata": {},
   "source": [
    "### Device Data in Requests"
   ]
  },
  {
   "cell_type": "code",
   "execution_count": null,
   "metadata": {},
   "outputs": [],
   "source": [
    "all_user_agents = []\n",
    "\n",
    "for entry in entries:\n",
    "    request = entry.get('request', {})\n",
    "    requestHeaders = request.get('headers', [])\n",
    "\n",
    "    # Analyze user agents\n",
    "    user_agent_header = next((header for header in requestHeaders if header['name'].lower() == 'user-agent'), None)\n",
    "    if user_agent_header:\n",
    "        user_agent_value = user_agent_header['value']\n",
    "        all_user_agents.append(user_agent_value)\n",
    "\n",
    "print(\"Count: \" + str(len(all_user_agents)))\n",
    "print(\"percentage of reqeuets with user agent: \" + str(round((len(all_user_agents) / len(entries) * 100))) + \"%\\n\")\n",
    "print(\"All user agents:\")\n",
    "for user_agent in list(set(all_user_agents)):\n",
    "    print(user_agent)\n"
   ]
  },
  {
   "cell_type": "markdown",
   "metadata": {},
   "source": [
    "### Cookies\n",
    "find all set-cookie values in response headers"
   ]
  },
  {
   "cell_type": "code",
   "execution_count": null,
   "metadata": {},
   "outputs": [],
   "source": [
    "import re\n",
    "\n",
    "for entry in entries:\n",
    "    response = entry.get('response', {})\n",
    "    responseHeaders = response.get('headers', [])\n",
    "\n",
    "    # Analyze cookies\n",
    "    for header in responseHeaders:\n",
    "        if header['name'].lower() == 'set-cookie':\n",
    "            cookies = header['value']\n",
    "\n",
    "            # Extract domain from the cookie string using a regular expression\n",
    "            domain_match = re.search(r'Domain=([^;]+)', cookies)\n",
    "            domain = domain_match.group(1) if domain_match else None\n",
    "\n",
    "            if domain:\n",
    "                print(f\"Set-Cookie: {cookies}\")\n",
    "                print(f\"Domain: {domain}\")\n"
   ]
  },
  {
   "cell_type": "markdown",
   "metadata": {},
   "source": [
    "### Third Party Requests\n",
    "find requests to third party domains of all types except stylesheet, image and font"
   ]
  },
  {
   "cell_type": "code",
   "execution_count": null,
   "metadata": {},
   "outputs": [],
   "source": [
    "from collections import Counter\n",
    "\n",
    "all_request_domains = []\n",
    "\n",
    "# Annahme: entries ist eine Liste von Einträgen\n",
    "for entry in entries:\n",
    "    request = entry.get('request', {})\n",
    "    response = entry.get('response', {})\n",
    "\n",
    "    # Analyse von Drittanbieteranfragen\n",
    "    if 'url' in request:\n",
    "        request_url = urlparse(request['url']).hostname\n",
    "\n",
    "        if host not in request_url and entry['_resourceType'] not in ['stylesheet', 'font', 'image']:\n",
    "            all_request_domains.append(request_url)\n",
    "\n",
    "# Verwende Counter, um die Anzahl der Vorkommen jeder Domain zu zählen\n",
    "domain_counter = Counter(all_request_domains)\n",
    "\n",
    "# Sortiere die Domänen nach der Anzahl der Vorkommen in absteigender Reihenfolge\n",
    "sorted_domains = domain_counter.most_common()\n",
    "\n",
    "print(f\"Total number of unique domains: {len(sorted_domains)}\")\n",
    "\n",
    "for domain, count in sorted_domains:\n",
    "    print(f\"{domain} ({count})\")\n"
   ]
  },
  {
   "cell_type": "markdown",
   "metadata": {},
   "source": [
    "### Query strings"
   ]
  },
  {
   "cell_type": "code",
   "execution_count": null,
   "metadata": {},
   "outputs": [],
   "source": [
    "all_query_strings = []\n",
    "\n",
    "for entry in entries:\n",
    "    request = entry.get('request', {})\n",
    "\n",
    "    # Analyze query strings\n",
    "    if 'queryString' in request:\n",
    "        query_string_list = request['queryString']\n",
    "        if query_string_list:\n",
    "            # Extract query strings from the list\n",
    "            query_strings = [param['name'] + '=' + param['value'] for param in query_string_list]\n",
    "            all_query_strings.extend(query_strings)\n",
    "\n",
    "\n",
    "# Print or use unique_query_strings as needed\n",
    "for query_string in list(set(all_query_strings)):\n",
    "    print(query_string)"
   ]
  },
  {
   "cell_type": "markdown",
   "metadata": {},
   "source": [
    "### Contains test mail\n",
    "check if any request contains aSHA256 or base64 endcoded version of our test mail address or password"
   ]
  }
 ],
 "metadata": {
  "kernelspec": {
   "display_name": "seminar-venv",
   "language": "python",
   "name": "python3"
  },
  "language_info": {
   "codemirror_mode": {
    "name": "ipython",
    "version": 3
   },
   "file_extension": ".py",
   "mimetype": "text/x-python",
   "name": "python",
   "nbconvert_exporter": "python",
   "pygments_lexer": "ipython3",
   "version": "3.9.6"
  }
 },
 "nbformat": 4,
 "nbformat_minor": 2
}
