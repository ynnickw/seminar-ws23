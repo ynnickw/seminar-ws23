{
 "cells": [
  {
   "cell_type": "code",
   "execution_count": null,
   "metadata": {},
   "outputs": [],
   "source": [
    "from haralyzer import HarParser\n",
    "import json\n",
    "\n",
    "def parse_har(har_file_path):\n",
    "    with open(har_file_path, 'r') as f:\n",
    "        har_content = json.loads(f.read())\n",
    "    return HarParser(har_content)\n",
    "\n",
    "def extract_identifiers(har_parser):\n",
    "    identifiers = set()\n",
    "    for page in har_parser.pages:\n",
    "        for entry in page.entries:\n",
    "            request_cookies = entry['request']['cookies']\n",
    "            response_cookies = entry['response']['cookies']\n",
    "            identifiers.update([cookie['name'] + \" = \" + cookie['value'] for cookie in request_cookies])\n",
    "            identifiers.update([cookie['name'] + \" = \" + cookie['value'] for cookie in response_cookies])\n",
    "    return identifiers\n",
    "\n",
    "newsHosts = [\"zeit.de\", \"cnn.com\", \"faz.net\", \"merkur.de\", \"n-tv.de\", \"sueddeutsche.de\", \"telegraph.co.uk\", \"theguardian.com\", \"thehindu.com\", \"zeit.de\"]\n",
    "types = [\"news/desktop/www.\", \"news/mobile/m.\"]\n",
    "\n",
    "for host in newsHosts:\n",
    "        print(\"Host: \" + host)\n",
    "\n",
    "        har_file_device1 = \"../archives/news/desktop/www.\" + host + \".har\"\n",
    "        har_file_device2 = \"../archives/news/mobile/m.\"+ host + \".har\"\n",
    "\n",
    "        har_parser1 = parse_har(har_file_device1)\n",
    "        har_parser2 = parse_har(har_file_device2)\n",
    "\n",
    "        # Extracting identifiers\n",
    "        identifiers_device1 = extract_identifiers(har_parser1)\n",
    "        identifiers_device2 = extract_identifiers(har_parser2)\n",
    "\n",
    "        # Finding common identifiers between two sets\n",
    "        common_identifiers = identifiers_device1.intersection(identifiers_device2)\n",
    "\n",
    "        for identifier in common_identifiers:\n",
    "            print(identifier)\n",
    "\n",
    "        print(\"\\n\")\n",
    "\n"
   ]
  }
 ],
 "metadata": {
  "kernelspec": {
   "display_name": "Python 3",
   "language": "python",
   "name": "python3"
  },
  "language_info": {
   "codemirror_mode": {
    "name": "ipython",
    "version": 3
   },
   "file_extension": ".py",
   "mimetype": "text/x-python",
   "name": "python",
   "nbconvert_exporter": "python",
   "pygments_lexer": "ipython3",
   "version": "3.9.6"
  }
 },
 "nbformat": 4,
 "nbformat_minor": 2
}
